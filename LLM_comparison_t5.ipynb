{
  "nbformat": 4,
  "nbformat_minor": 0,
  "metadata": {
    "colab": {
      "provenance": [],
      "gpuType": "V28"
    },
    "kernelspec": {
      "name": "python3",
      "display_name": "Python 3"
    },
    "language_info": {
      "name": "python"
    },
    "accelerator": "TPU",
    "widgets": {
      "application/vnd.jupyter.widget-state+json": {
        "f419d44de8fc472bbc9af01cf21ccf7b": {
          "model_module": "@jupyter-widgets/controls",
          "model_name": "HBoxModel",
          "model_module_version": "1.5.0",
          "state": {
            "_dom_classes": [],
            "_model_module": "@jupyter-widgets/controls",
            "_model_module_version": "1.5.0",
            "_model_name": "HBoxModel",
            "_view_count": null,
            "_view_module": "@jupyter-widgets/controls",
            "_view_module_version": "1.5.0",
            "_view_name": "HBoxView",
            "box_style": "",
            "children": [
              "IPY_MODEL_b1d380908a2a4c989625578fbb8f5c15",
              "IPY_MODEL_aaf9bdb797034499b593b63e27cc0d22",
              "IPY_MODEL_8058121d5ec64f2481b26dbdfc6c898c"
            ],
            "layout": "IPY_MODEL_daa855f10468421c9a5806e5999519e7"
          }
        },
        "b1d380908a2a4c989625578fbb8f5c15": {
          "model_module": "@jupyter-widgets/controls",
          "model_name": "HTMLModel",
          "model_module_version": "1.5.0",
          "state": {
            "_dom_classes": [],
            "_model_module": "@jupyter-widgets/controls",
            "_model_module_version": "1.5.0",
            "_model_name": "HTMLModel",
            "_view_count": null,
            "_view_module": "@jupyter-widgets/controls",
            "_view_module_version": "1.5.0",
            "_view_name": "HTMLView",
            "description": "",
            "description_tooltip": null,
            "layout": "IPY_MODEL_5e44c9ef04b94d81a54766a779e27e0a",
            "placeholder": "​",
            "style": "IPY_MODEL_30a79c82a1e8487895f487284af65124",
            "value": "Loading checkpoint shards: 100%"
          }
        },
        "aaf9bdb797034499b593b63e27cc0d22": {
          "model_module": "@jupyter-widgets/controls",
          "model_name": "FloatProgressModel",
          "model_module_version": "1.5.0",
          "state": {
            "_dom_classes": [],
            "_model_module": "@jupyter-widgets/controls",
            "_model_module_version": "1.5.0",
            "_model_name": "FloatProgressModel",
            "_view_count": null,
            "_view_module": "@jupyter-widgets/controls",
            "_view_module_version": "1.5.0",
            "_view_name": "ProgressView",
            "bar_style": "success",
            "description": "",
            "description_tooltip": null,
            "layout": "IPY_MODEL_faec0debb7324a4fbcd6e2945abba127",
            "max": 2,
            "min": 0,
            "orientation": "horizontal",
            "style": "IPY_MODEL_5abeadf649804e7095bef8d97cf790a4",
            "value": 2
          }
        },
        "8058121d5ec64f2481b26dbdfc6c898c": {
          "model_module": "@jupyter-widgets/controls",
          "model_name": "HTMLModel",
          "model_module_version": "1.5.0",
          "state": {
            "_dom_classes": [],
            "_model_module": "@jupyter-widgets/controls",
            "_model_module_version": "1.5.0",
            "_model_name": "HTMLModel",
            "_view_count": null,
            "_view_module": "@jupyter-widgets/controls",
            "_view_module_version": "1.5.0",
            "_view_name": "HTMLView",
            "description": "",
            "description_tooltip": null,
            "layout": "IPY_MODEL_1302425352784e56abdf81009c1906ae",
            "placeholder": "​",
            "style": "IPY_MODEL_adf1baef7cad4befb9ae7863dd1d8f8d",
            "value": " 2/2 [00:10&lt;00:00,  4.54s/it]"
          }
        },
        "daa855f10468421c9a5806e5999519e7": {
          "model_module": "@jupyter-widgets/base",
          "model_name": "LayoutModel",
          "model_module_version": "1.2.0",
          "state": {
            "_model_module": "@jupyter-widgets/base",
            "_model_module_version": "1.2.0",
            "_model_name": "LayoutModel",
            "_view_count": null,
            "_view_module": "@jupyter-widgets/base",
            "_view_module_version": "1.2.0",
            "_view_name": "LayoutView",
            "align_content": null,
            "align_items": null,
            "align_self": null,
            "border": null,
            "bottom": null,
            "display": null,
            "flex": null,
            "flex_flow": null,
            "grid_area": null,
            "grid_auto_columns": null,
            "grid_auto_flow": null,
            "grid_auto_rows": null,
            "grid_column": null,
            "grid_gap": null,
            "grid_row": null,
            "grid_template_areas": null,
            "grid_template_columns": null,
            "grid_template_rows": null,
            "height": null,
            "justify_content": null,
            "justify_items": null,
            "left": null,
            "margin": null,
            "max_height": null,
            "max_width": null,
            "min_height": null,
            "min_width": null,
            "object_fit": null,
            "object_position": null,
            "order": null,
            "overflow": null,
            "overflow_x": null,
            "overflow_y": null,
            "padding": null,
            "right": null,
            "top": null,
            "visibility": null,
            "width": null
          }
        },
        "5e44c9ef04b94d81a54766a779e27e0a": {
          "model_module": "@jupyter-widgets/base",
          "model_name": "LayoutModel",
          "model_module_version": "1.2.0",
          "state": {
            "_model_module": "@jupyter-widgets/base",
            "_model_module_version": "1.2.0",
            "_model_name": "LayoutModel",
            "_view_count": null,
            "_view_module": "@jupyter-widgets/base",
            "_view_module_version": "1.2.0",
            "_view_name": "LayoutView",
            "align_content": null,
            "align_items": null,
            "align_self": null,
            "border": null,
            "bottom": null,
            "display": null,
            "flex": null,
            "flex_flow": null,
            "grid_area": null,
            "grid_auto_columns": null,
            "grid_auto_flow": null,
            "grid_auto_rows": null,
            "grid_column": null,
            "grid_gap": null,
            "grid_row": null,
            "grid_template_areas": null,
            "grid_template_columns": null,
            "grid_template_rows": null,
            "height": null,
            "justify_content": null,
            "justify_items": null,
            "left": null,
            "margin": null,
            "max_height": null,
            "max_width": null,
            "min_height": null,
            "min_width": null,
            "object_fit": null,
            "object_position": null,
            "order": null,
            "overflow": null,
            "overflow_x": null,
            "overflow_y": null,
            "padding": null,
            "right": null,
            "top": null,
            "visibility": null,
            "width": null
          }
        },
        "30a79c82a1e8487895f487284af65124": {
          "model_module": "@jupyter-widgets/controls",
          "model_name": "DescriptionStyleModel",
          "model_module_version": "1.5.0",
          "state": {
            "_model_module": "@jupyter-widgets/controls",
            "_model_module_version": "1.5.0",
            "_model_name": "DescriptionStyleModel",
            "_view_count": null,
            "_view_module": "@jupyter-widgets/base",
            "_view_module_version": "1.2.0",
            "_view_name": "StyleView",
            "description_width": ""
          }
        },
        "faec0debb7324a4fbcd6e2945abba127": {
          "model_module": "@jupyter-widgets/base",
          "model_name": "LayoutModel",
          "model_module_version": "1.2.0",
          "state": {
            "_model_module": "@jupyter-widgets/base",
            "_model_module_version": "1.2.0",
            "_model_name": "LayoutModel",
            "_view_count": null,
            "_view_module": "@jupyter-widgets/base",
            "_view_module_version": "1.2.0",
            "_view_name": "LayoutView",
            "align_content": null,
            "align_items": null,
            "align_self": null,
            "border": null,
            "bottom": null,
            "display": null,
            "flex": null,
            "flex_flow": null,
            "grid_area": null,
            "grid_auto_columns": null,
            "grid_auto_flow": null,
            "grid_auto_rows": null,
            "grid_column": null,
            "grid_gap": null,
            "grid_row": null,
            "grid_template_areas": null,
            "grid_template_columns": null,
            "grid_template_rows": null,
            "height": null,
            "justify_content": null,
            "justify_items": null,
            "left": null,
            "margin": null,
            "max_height": null,
            "max_width": null,
            "min_height": null,
            "min_width": null,
            "object_fit": null,
            "object_position": null,
            "order": null,
            "overflow": null,
            "overflow_x": null,
            "overflow_y": null,
            "padding": null,
            "right": null,
            "top": null,
            "visibility": null,
            "width": null
          }
        },
        "5abeadf649804e7095bef8d97cf790a4": {
          "model_module": "@jupyter-widgets/controls",
          "model_name": "ProgressStyleModel",
          "model_module_version": "1.5.0",
          "state": {
            "_model_module": "@jupyter-widgets/controls",
            "_model_module_version": "1.5.0",
            "_model_name": "ProgressStyleModel",
            "_view_count": null,
            "_view_module": "@jupyter-widgets/base",
            "_view_module_version": "1.2.0",
            "_view_name": "StyleView",
            "bar_color": null,
            "description_width": ""
          }
        },
        "1302425352784e56abdf81009c1906ae": {
          "model_module": "@jupyter-widgets/base",
          "model_name": "LayoutModel",
          "model_module_version": "1.2.0",
          "state": {
            "_model_module": "@jupyter-widgets/base",
            "_model_module_version": "1.2.0",
            "_model_name": "LayoutModel",
            "_view_count": null,
            "_view_module": "@jupyter-widgets/base",
            "_view_module_version": "1.2.0",
            "_view_name": "LayoutView",
            "align_content": null,
            "align_items": null,
            "align_self": null,
            "border": null,
            "bottom": null,
            "display": null,
            "flex": null,
            "flex_flow": null,
            "grid_area": null,
            "grid_auto_columns": null,
            "grid_auto_flow": null,
            "grid_auto_rows": null,
            "grid_column": null,
            "grid_gap": null,
            "grid_row": null,
            "grid_template_areas": null,
            "grid_template_columns": null,
            "grid_template_rows": null,
            "height": null,
            "justify_content": null,
            "justify_items": null,
            "left": null,
            "margin": null,
            "max_height": null,
            "max_width": null,
            "min_height": null,
            "min_width": null,
            "object_fit": null,
            "object_position": null,
            "order": null,
            "overflow": null,
            "overflow_x": null,
            "overflow_y": null,
            "padding": null,
            "right": null,
            "top": null,
            "visibility": null,
            "width": null
          }
        },
        "adf1baef7cad4befb9ae7863dd1d8f8d": {
          "model_module": "@jupyter-widgets/controls",
          "model_name": "DescriptionStyleModel",
          "model_module_version": "1.5.0",
          "state": {
            "_model_module": "@jupyter-widgets/controls",
            "_model_module_version": "1.5.0",
            "_model_name": "DescriptionStyleModel",
            "_view_count": null,
            "_view_module": "@jupyter-widgets/base",
            "_view_module_version": "1.2.0",
            "_view_name": "StyleView",
            "description_width": ""
          }
        }
      }
    }
  },
  "cells": [
    {
      "cell_type": "markdown",
      "source": [
        "# Experimenting with LLMs: A Comparison of T5 Models\n",
        "\n",
        "Exploring freely available large language models (LLMs), particularly the T5 model, provides valuable insights and helps build an understanding of how model size and the number of parameters influence performance, time, and the resources needed for tasks such as sentiment analysis of movie reviews. Several T5 model variants were compared in terms of accuracy, model size, evaluation time, and computational resources required.\n",
        "\n",
        "## Models Tested\n",
        "\n",
        "The following models were tested:\n",
        "\n",
        "- `google/flan-t5-small`: 77M parameters (440MB)\n",
        "- `google/flan-t5-base`: 248M parameters (~1.1GB)\n",
        "- `google/flan-t5-large`: 783M parameters (~3.5GB)\n",
        "- `google/flan-t5-xl`: 2.85B parameters (~10GB)\n",
        "- `google/flan-t5-xxl`: 11.3B parameters (~46GB) - Not tested\n",
        "\n",
        "## Results\n",
        "\n",
        "The findings are summarized as follows:\n",
        "\n",
        "| Model          | Prediction Time (100 Reviews) | Accuracy | Resources Used | Notes                                     |\n",
        "|----------------|-------------------------------|----------|----------------|-------------------------------------------|\n",
        "| flan-t5-small  | 3 minutes                     | 53%      | CPU            | Predicted all reviews as class 1          |\n",
        "| flan-t5-base   | 14 minutes                    | 93%      | CPU            | Significant improvement in accuracy       |\n",
        "| flan-t5-large  | 47 minutes                    | 95%      | CPU            | Slightly higher accuracy                  |\n",
        "| flan-t5-xl     | 1h 47 minutes                 | 96%      | TPU            | Required TPU for processing               |\n",
        "| flan-t5-xxl    | Not tested                    | N/A      | N/A            | Requires substantial resources            |\n",
        "\n",
        "\n",
        "## Insights\n",
        "\n",
        "- **flan-t5-small**: Quick but exhibited poor accuracy, with a notable bias towards predicting all reviews as a single class.\n",
        "- **flan-t5-base**: Displayed a significant jump in accuracy to 93%, making it a reliable option for sentiment analysis.\n",
        "- **flan-t5-large**: Demonstrated further improvement in accuracy to 95%, albeit requiring significantly more time.\n",
        "- **flan-t5-xl**: Maintained high accuracy (96%) but necessitated the use of a TPU due to its size and computational demands.\n",
        "- **flan-t5-xxl**: Not tested due to its substantial resource requirements.\n",
        "\n",
        "## Conclusion\n",
        "\n",
        "The data above highlight the trade-offs between model size, evaluation time, and accuracy. While larger models like flan-t5-xl deliver higher accuracy, they demand more substantial computational resources and time. Surprisingly, the base model with just 248M parameters performed very well with the task, offering a solid balance between accuracy and efficiency. For those with limited resources, flan-t5-base provides an excellent option for sentiment analysis that achieves high accuracy without the significant computational overhead.\n",
        "\n"
      ],
      "metadata": {
        "id": "JSdOFC0yzVUI"
      }
    },
    {
      "cell_type": "markdown",
      "source": [
        "# ----------- Reproducible code below: -----------"
      ],
      "metadata": {
        "id": "at_7Mjc10f7b"
      }
    },
    {
      "cell_type": "code",
      "execution_count": 1,
      "metadata": {
        "collapsed": true,
        "id": "ExbJCbf6a2gE"
      },
      "outputs": [],
      "source": [
        "%pip install -U datasets==2.17.0\n",
        "%pip install --upgrade pip\n",
        "%pip install --disable-pip-version-check \\\n",
        "    torch==1.13.1 \\\n",
        "    torchdata==0.5.1 --quiet\n",
        "%pip install \\\n",
        "    transformers==4.27.2 --quiet"
      ]
    },
    {
      "cell_type": "code",
      "source": [
        "from datasets import load_dataset\n",
        "from transformers import AutoModelForSeq2SeqLM\n",
        "from transformers import AutoTokenizer\n",
        "# from transformers import GenerationConfig\n",
        "from datasets import load_dataset\n",
        "import random\n",
        "import pandas as pd\n",
        "\n",
        "## Evaluation\n",
        "from sklearn.metrics import confusion_matrix\n",
        "from sklearn.metrics import accuracy_score\n",
        "import matplotlib.pyplot as plt\n",
        "#from sklearn.datasets import make_classification\n",
        "from sklearn.metrics import ConfusionMatrixDisplay\n",
        "import datetime\n",
        "dash_line = '-'.join('' for x in range(100))"
      ],
      "metadata": {
        "id": "USK3wiUkqIuV"
      },
      "execution_count": null,
      "outputs": []
    },
    {
      "cell_type": "code",
      "source": [
        "## Dataset\n",
        "dataset_name = \"stanfordnlp/imdb\"\n",
        "imdb_dataset = load_dataset(dataset_name)"
      ],
      "metadata": {
        "collapsed": true,
        "id": "WfC_dh8Ajv8O"
      },
      "execution_count": 2,
      "outputs": []
    },
    {
      "cell_type": "code",
      "source": [
        "## Select sample\n",
        "random.seed(12)\n",
        "min_n = 0\n",
        "max_n = len(imdb_dataset['test'])-1\n",
        "N_examples = 102\n",
        "indexes = [random.randint(min_n, max_n) for i in range(0, N_examples)]\n",
        "indexes[:5]"
      ],
      "metadata": {
        "colab": {
          "base_uri": "https://localhost:8080/"
        },
        "id": "95TquTbGr3bR",
        "outputId": "d201b9a3-825b-452f-ea3a-98566bc1a841"
      },
      "execution_count": null,
      "outputs": [
        {
          "output_type": "execute_result",
          "data": {
            "text/plain": [
              "[15550, 8814, 21544, 17338, 21836]"
            ]
          },
          "metadata": {},
          "execution_count": 4
        }
      ]
    },
    {
      "cell_type": "code",
      "source": [
        "# Few shots\n",
        "few_shots = indexes[:2]\n",
        "print(few_shots)\n",
        "print(len(few_shots))"
      ],
      "metadata": {
        "colab": {
          "base_uri": "https://localhost:8080/"
        },
        "id": "fCmMVt5auZc7",
        "outputId": "642e1239-2cf3-4bb3-f839-99b54c87244c"
      },
      "execution_count": null,
      "outputs": [
        {
          "output_type": "stream",
          "name": "stdout",
          "text": [
            "[15550, 8814]\n",
            "2\n"
          ]
        }
      ]
    },
    {
      "cell_type": "code",
      "source": [
        "## Testing\n",
        "test = indexes[2:]\n",
        "print(test[:3])\n",
        "print(len(test))"
      ],
      "metadata": {
        "colab": {
          "base_uri": "https://localhost:8080/"
        },
        "id": "jPGBeBGgt3GM",
        "outputId": "c18a5aac-2ea6-4e95-a8f3-697e4127ff81"
      },
      "execution_count": null,
      "outputs": [
        {
          "output_type": "stream",
          "name": "stdout",
          "text": [
            "[21544, 17338, 21836]\n",
            "100\n"
          ]
        }
      ]
    },
    {
      "cell_type": "code",
      "source": [
        "## The function to create a prompt\n",
        "\n",
        "def sentiment_analysis_prompt(list_of_shots, test_example):\n",
        "    prompt = f'''You will be given a review and your task is to evaluate its sentiment.\n",
        "    You are allowed to output only integers either 0 which stands for negative sentiment or 1 for positive sentiment.'''\n",
        "    for index in list_of_shots:\n",
        "        review = imdb_dataset['test'][index]['text']\n",
        "        sentiment = imdb_dataset['test'][index]['label']\n",
        "\n",
        "        prompt += f\"\"\"\n",
        "\n",
        "Review:\n",
        "\n",
        "{review}\n",
        "\n",
        "Sentiment:\n",
        "\n",
        "{sentiment}\n",
        "\n",
        "\n",
        "\"\"\"\n",
        "\n",
        "    review = imdb_dataset['test'][test_example]['text']\n",
        "\n",
        "\n",
        "    prompt += f\"\"\"\n",
        "Review:\n",
        "\n",
        "{review}\n",
        "\n",
        "Sentiment:\n",
        "\"\"\"\n",
        "\n",
        "    return prompt"
      ],
      "metadata": {
        "id": "i5_KXkM9tSXB"
      },
      "execution_count": null,
      "outputs": []
    },
    {
      "cell_type": "code",
      "source": [
        "## The function to evaluate results\n",
        "\n",
        "def eval_conf_matrix(df, model_used):\n",
        "  y_true = (df['True_Sentiment']).astype(int)\n",
        "  y_pred = (df['Model_Sentiment']).astype(int)\n",
        "\n",
        "  print(f\"\"\"The model {the_model}:\"\"\")\n",
        "  print(f\"\"\"Predicted correctly: {accuracy_score(y_true, y_pred, normalize=False)} out of {len(df)} samples \"\"\")\n",
        "  print(f\"\"\"Accuracy score: {(accuracy_score(y_true, y_pred, normalize=True))*100}%\"\"\")\n",
        "  print(f\"\"\"Confusion Matrix:\"\"\")\n",
        "  cm = confusion_matrix(y_true, y_pred)\n",
        "  disp = ConfusionMatrixDisplay(confusion_matrix=cm)\n",
        "  disp.plot()\n",
        "  plt.show()\n",
        "\n",
        "  # Save the raw results to csv\n",
        "  now = datetime.datetime.now()\n",
        "  name_to_save = model_used[-5:]\n",
        "  df.to_csv(f\"\"\"model_{name_to_save}_{now}.csv\"\"\")"
      ],
      "metadata": {
        "id": "dB8aLOLNELu5"
      },
      "execution_count": null,
      "outputs": []
    },
    {
      "cell_type": "code",
      "source": [
        "# print(sentiment_analysis_prompt(few_shots, test[0]))"
      ],
      "metadata": {
        "id": "TZpDbzLXBW9r"
      },
      "execution_count": null,
      "outputs": []
    },
    {
      "cell_type": "code",
      "source": [
        "## Models to test\n",
        "models_list = [\n",
        "    'google/flan-t5-small', ## 77M (440MB)\n",
        "    'google/flan-t5-base', ## 248M (~1.1GB)\n",
        "    'google/flan-t5-large', ## 783M (~3.5GB)\n",
        "    'google/flan-t5-xl', ## 2.85B (~10GB)\n",
        "    # 'google/flan-t5-xxl' ## 11.3B (~46GB)\n",
        "    ]"
      ],
      "metadata": {
        "id": "u-Xe8ta5_kW7"
      },
      "execution_count": null,
      "outputs": []
    },
    {
      "cell_type": "markdown",
      "source": [
        "# RESULTS:"
      ],
      "metadata": {
        "id": "oQU6Y_BPzK9a"
      }
    },
    {
      "cell_type": "markdown",
      "source": [
        "## 1) T5 SMALL (77M paramaters; ~ 440MB)"
      ],
      "metadata": {
        "id": "oQ6PeKKPGrv1"
      }
    },
    {
      "cell_type": "code",
      "source": [
        "the_model = models_list[0]\n",
        "print(the_model)\n",
        "\n",
        "# Get the model\n",
        "model = AutoModelForSeq2SeqLM.from_pretrained(the_model)\n",
        "# Tokenize\n",
        "tokenizer = AutoTokenizer.from_pretrained(the_model, use_fast=True)"
      ],
      "metadata": {
        "colab": {
          "base_uri": "https://localhost:8080/"
        },
        "id": "2eVDr3Q9_nk2",
        "outputId": "6ccf3069-3590-496c-8a7e-61832c89f92d"
      },
      "execution_count": null,
      "outputs": [
        {
          "output_type": "stream",
          "name": "stdout",
          "text": [
            "google/flan-t5-small\n"
          ]
        },
        {
          "output_type": "stream",
          "name": "stderr",
          "text": [
            "/usr/local/lib/python3.10/dist-packages/huggingface_hub/file_download.py:797: FutureWarning: `resume_download` is deprecated and will be removed in version 1.0.0. Downloads always resume when possible. If you want to force a new download, use `force_download=True`.\n",
            "  warnings.warn(\n"
          ]
        }
      ]
    },
    {
      "cell_type": "code",
      "source": [
        "%%time\n",
        "\n",
        "df_results = pd.DataFrame(columns = ['index', 'Question', 'True_Sentiment', 'Model_Sentiment'])\n",
        "\n",
        "for i in test:\n",
        "  the_prompt = sentiment_analysis_prompt(few_shots, i)\n",
        "\n",
        "  inputs = tokenizer(the_prompt, return_tensors='pt')\n",
        "  output = tokenizer.decode(\n",
        "    model.generate(\n",
        "        inputs[\"input_ids\"],\n",
        "        max_new_tokens=50,\n",
        "    )[0],\n",
        "    skip_special_tokens=True\n",
        "  )\n",
        "\n",
        "  new_row = pd.DataFrame([{\n",
        "      \"index\": i,\n",
        "      \"Question\": imdb_dataset['test'][i]['text'],\n",
        "      \"True_Sentiment\": imdb_dataset['test'][i]['label'],\n",
        "      \"Model_Sentiment\": output\n",
        "      }])\n",
        "  df_results = pd.concat([df_results,new_row], ignore_index=True)\n",
        "\n",
        "# Print the table\n",
        "print(df_results.head(10))\n",
        "# Print matrix and accuracy\n",
        "eval_conf_matrix(df_results,the_model)"
      ],
      "metadata": {
        "colab": {
          "base_uri": "https://localhost:8080/",
          "height": 1000
        },
        "id": "1jdTJYuCvrAg",
        "outputId": "b4170651-9c7e-42ac-8172-1734721ed9b7"
      },
      "execution_count": null,
      "outputs": [
        {
          "output_type": "stream",
          "name": "stderr",
          "text": [
            "Token indices sequence length is longer than the specified maximum sequence length for this model (1395 > 512). Running this sequence through the model will result in indexing errors\n"
          ]
        },
        {
          "output_type": "stream",
          "name": "stdout",
          "text": [
            "   index                                           Question True_Sentiment  \\\n",
            "0  21544  First of all, I know almost nothing about rugb...              1   \n",
            "1  17338  ****SPOILERS**** Buried under a mountain of me...              1   \n",
            "2  21836  I first saw this movie when I was very little....              1   \n",
            "3  11461  I must have been in a good mood to give this s...              0   \n",
            "4   4672  spoilers<br /><br />This movie is not action p...              0   \n",
            "5  12505  Overall, a well done movie. There were the par...              1   \n",
            "6    355  SPOILER!! Terrible camera work, horrible writi...              0   \n",
            "7  12279  Please -- if you haven't attempted to sit thro...              0   \n",
            "8  15811  honestly.. this show warms my heart, i watch i...              1   \n",
            "9   8980  Is there anything else on earth to be more ent...              0   \n",
            "\n",
            "  Model_Sentiment  \n",
            "0               1  \n",
            "1               1  \n",
            "2               1  \n",
            "3               1  \n",
            "4               1  \n",
            "5               1  \n",
            "6               1  \n",
            "7               1  \n",
            "8               1  \n",
            "9               1  \n",
            "The model google/flan-t5-small:\n",
            "Predicted correctly: 53.0 out of 100 samples \n",
            "Accuracy score: 53.0%\n",
            "Confusion Matrix:\n"
          ]
        },
        {
          "output_type": "display_data",
          "data": {
            "text/plain": [
              "<Figure size 640x480 with 2 Axes>"
            ],
            "image/png": "[encoded data removed]"
          },
          "metadata": {}
        },
        {
          "output_type": "stream",
          "name": "stdout",
          "text": [
            "CPU times: user 3min 8s, sys: 628 ms, total: 3min 9s\n",
            "Wall time: 3min 10s\n"
          ]
        }
      ]
    },
    {
      "cell_type": "markdown",
      "source": [
        "## 2) T5 BASE (248M parameters; ~1.1GB)\n"
      ],
      "metadata": {
        "id": "S9QfIRLrGvNx"
      }
    },
    {
      "cell_type": "code",
      "source": [
        "the_model = models_list[1]\n",
        "print(the_model)\n",
        "\n",
        "# Get the model\n",
        "model = AutoModelForSeq2SeqLM.from_pretrained(the_model)\n",
        "# Tokenize\n",
        "tokenizer = AutoTokenizer.from_pretrained(the_model, use_fast=True)"
      ],
      "metadata": {
        "colab": {
          "base_uri": "https://localhost:8080/"
        },
        "id": "QVu50Tn6G5mf",
        "outputId": "076af309-4ad7-437f-cf6c-3197badc165b"
      },
      "execution_count": null,
      "outputs": [
        {
          "output_type": "stream",
          "name": "stdout",
          "text": [
            "google/flan-t5-base\n"
          ]
        },
        {
          "output_type": "stream",
          "name": "stderr",
          "text": [
            "/usr/local/lib/python3.10/dist-packages/huggingface_hub/file_download.py:797: FutureWarning: `resume_download` is deprecated and will be removed in version 1.0.0. Downloads always resume when possible. If you want to force a new download, use `force_download=True`.\n",
            "  warnings.warn(\n"
          ]
        }
      ]
    },
    {
      "cell_type": "code",
      "source": [
        "%%time\n",
        "\n",
        "df_results = pd.DataFrame(columns = ['index', 'Question', 'True_Sentiment', 'Model_Sentiment'])\n",
        "\n",
        "for i in test:\n",
        "  the_prompt = sentiment_analysis_prompt(few_shots, i)\n",
        "\n",
        "\n",
        "  inputs = tokenizer(the_prompt, return_tensors='pt')\n",
        "  output = tokenizer.decode(\n",
        "    model.generate(\n",
        "        inputs[\"input_ids\"],\n",
        "        max_new_tokens=50,\n",
        "    )[0],\n",
        "    skip_special_tokens=True\n",
        "  )\n",
        "\n",
        "  new_row = pd.DataFrame([{\n",
        "      \"index\": i,\n",
        "      \"Question\": imdb_dataset['test'][i]['text'],\n",
        "      \"True_Sentiment\": imdb_dataset['test'][i]['label'],\n",
        "      \"Model_Sentiment\": output\n",
        "      }])\n",
        "  df_results = pd.concat([df_results,new_row], ignore_index=True)\n",
        "\n",
        "# Print the table\n",
        "print(df_results.head(10))\n",
        "# Print matrix and accuracy\n",
        "eval_conf_matrix(df_results,the_model)"
      ],
      "metadata": {
        "colab": {
          "base_uri": "https://localhost:8080/",
          "height": 1000
        },
        "id": "dzBdWs43Gwl5",
        "outputId": "6f35cd46-23ce-4709-fff4-a528c80d5742"
      },
      "execution_count": null,
      "outputs": [
        {
          "output_type": "stream",
          "name": "stderr",
          "text": [
            "Token indices sequence length is longer than the specified maximum sequence length for this model (1395 > 512). Running this sequence through the model will result in indexing errors\n"
          ]
        },
        {
          "output_type": "stream",
          "name": "stdout",
          "text": [
            "   index                                           Question True_Sentiment  \\\n",
            "0  21544  First of all, I know almost nothing about rugb...              1   \n",
            "1  17338  ****SPOILERS**** Buried under a mountain of me...              1   \n",
            "2  21836  I first saw this movie when I was very little....              1   \n",
            "3  11461  I must have been in a good mood to give this s...              0   \n",
            "4   4672  spoilers<br /><br />This movie is not action p...              0   \n",
            "5  12505  Overall, a well done movie. There were the par...              1   \n",
            "6    355  SPOILER!! Terrible camera work, horrible writi...              0   \n",
            "7  12279  Please -- if you haven't attempted to sit thro...              0   \n",
            "8  15811  honestly.. this show warms my heart, i watch i...              1   \n",
            "9   8980  Is there anything else on earth to be more ent...              0   \n",
            "\n",
            "  Model_Sentiment  \n",
            "0               1  \n",
            "1               1  \n",
            "2               1  \n",
            "3               0  \n",
            "4               0  \n",
            "5               1  \n",
            "6               0  \n",
            "7               0  \n",
            "8               1  \n",
            "9               0  \n",
            "The model google/flan-t5-base:\n",
            "Predicted correctly: 93.0 out of 100 samples \n",
            "Accuracy score: 0.93%\n",
            "Confusion Matrix:\n"
          ]
        },
        {
          "output_type": "display_data",
          "data": {
            "text/plain": [
              "<Figure size 640x480 with 2 Axes>"
            ],
            "image/png": "[encoded data removed]"
          },
          "metadata": {}
        },
        {
          "output_type": "stream",
          "name": "stdout",
          "text": [
            "CPU times: user 12min 16s, sys: 1min 24s, total: 13min 41s\n",
            "Wall time: 13min 44s\n"
          ]
        }
      ]
    },
    {
      "cell_type": "markdown",
      "source": [
        "## 3) T5 LARGE (783M parameters; ~3.5GB)"
      ],
      "metadata": {
        "id": "obVMhT1pOznJ"
      }
    },
    {
      "cell_type": "code",
      "source": [
        "the_model = models_list[2]\n",
        "print(the_model)\n",
        "\n",
        "# Get the model\n",
        "model = AutoModelForSeq2SeqLM.from_pretrained(the_model)\n",
        "# Tokenize\n",
        "tokenizer = AutoTokenizer.from_pretrained(the_model, use_fast=True)"
      ],
      "metadata": {
        "colab": {
          "base_uri": "https://localhost:8080/"
        },
        "id": "jSbSUUsfO1VT",
        "outputId": "79a2232f-d6d8-4c9a-c6ba-77b07903904f"
      },
      "execution_count": null,
      "outputs": [
        {
          "output_type": "stream",
          "name": "stdout",
          "text": [
            "google/flan-t5-large\n"
          ]
        },
        {
          "output_type": "stream",
          "name": "stderr",
          "text": [
            "/usr/local/lib/python3.10/dist-packages/huggingface_hub/file_download.py:797: FutureWarning: `resume_download` is deprecated and will be removed in version 1.0.0. Downloads always resume when possible. If you want to force a new download, use `force_download=True`.\n",
            "  warnings.warn(\n"
          ]
        }
      ]
    },
    {
      "cell_type": "code",
      "source": [
        "%%time\n",
        "\n",
        "df_results = pd.DataFrame(columns = ['index', 'Question', 'True_Sentiment', 'Model_Sentiment'])\n",
        "\n",
        "for i in test:\n",
        "  the_prompt = sentiment_analysis_prompt(few_shots, i)\n",
        "\n",
        "\n",
        "  inputs = tokenizer(the_prompt, return_tensors='pt')\n",
        "  output = tokenizer.decode(\n",
        "    model.generate(\n",
        "        inputs[\"input_ids\"],\n",
        "        max_new_tokens=50,\n",
        "    )[0],\n",
        "    skip_special_tokens=True\n",
        "  )\n",
        "\n",
        "  new_row = pd.DataFrame([{\n",
        "      \"index\": i,\n",
        "      \"Question\": imdb_dataset['test'][i]['text'],\n",
        "      \"True_Sentiment\": imdb_dataset['test'][i]['label'],\n",
        "      \"Model_Sentiment\": output\n",
        "      }])\n",
        "  df_results = pd.concat([df_results,new_row], ignore_index=True)\n",
        "\n",
        "# Print the table\n",
        "print(df_results.head(10))\n",
        "# Print matrix and accuracy\n",
        "eval_conf_matrix(df_results,the_model)"
      ],
      "metadata": {
        "colab": {
          "base_uri": "https://localhost:8080/",
          "height": 1000
        },
        "id": "wwRSU1BXO6ZI",
        "outputId": "acfbfca5-1e3f-44b7-dbd9-b97d9f4caff0"
      },
      "execution_count": null,
      "outputs": [
        {
          "output_type": "stream",
          "name": "stderr",
          "text": [
            "Token indices sequence length is longer than the specified maximum sequence length for this model (1395 > 512). Running this sequence through the model will result in indexing errors\n"
          ]
        },
        {
          "output_type": "stream",
          "name": "stdout",
          "text": [
            "   index                                           Question True_Sentiment  \\\n",
            "0  21544  First of all, I know almost nothing about rugb...              1   \n",
            "1  17338  ****SPOILERS**** Buried under a mountain of me...              1   \n",
            "2  21836  I first saw this movie when I was very little....              1   \n",
            "3  11461  I must have been in a good mood to give this s...              0   \n",
            "4   4672  spoilers<br /><br />This movie is not action p...              0   \n",
            "5  12505  Overall, a well done movie. There were the par...              1   \n",
            "6    355  SPOILER!! Terrible camera work, horrible writi...              0   \n",
            "7  12279  Please -- if you haven't attempted to sit thro...              0   \n",
            "8  15811  honestly.. this show warms my heart, i watch i...              1   \n",
            "9   8980  Is there anything else on earth to be more ent...              0   \n",
            "\n",
            "  Model_Sentiment  \n",
            "0               1  \n",
            "1               1  \n",
            "2               1  \n",
            "3               0  \n",
            "4               0  \n",
            "5               1  \n",
            "6               0  \n",
            "7               0  \n",
            "8               1  \n",
            "9               0  \n",
            "The model google/flan-t5-large:\n",
            "Predicted correctly: 95.0 out of 100 samples \n",
            "Accuracy score: 95.0%\n",
            "Confusion Matrix:\n"
          ]
        },
        {
          "output_type": "display_data",
          "data": {
            "text/plain": [
              "<Figure size 640x480 with 2 Axes>"
            ],
            "image/png": "[encoded data removed]"
          },
          "metadata": {}
        },
        {
          "output_type": "stream",
          "name": "stdout",
          "text": [
            "CPU times: user 41min 43s, sys: 5min 17s, total: 47min\n",
            "Wall time: 47min 14s\n"
          ]
        }
      ]
    },
    {
      "cell_type": "markdown",
      "source": [
        "## 4) T5 XL (2.85B parameters; ~10GB)"
      ],
      "metadata": {
        "id": "S5FxWkWvRB6D"
      }
    },
    {
      "cell_type": "code",
      "source": [
        "the_model = models_list[3]\n",
        "print(the_model)\n",
        "\n",
        "# Get the model\n",
        "model = AutoModelForSeq2SeqLM.from_pretrained(the_model)\n",
        "# Tokenize\n",
        "tokenizer = AutoTokenizer.from_pretrained(the_model, use_fast=True)"
      ],
      "metadata": {
        "colab": {
          "base_uri": "https://localhost:8080/",
          "height": 158,
          "referenced_widgets": [
            "f419d44de8fc472bbc9af01cf21ccf7b",
            "b1d380908a2a4c989625578fbb8f5c15",
            "aaf9bdb797034499b593b63e27cc0d22",
            "8058121d5ec64f2481b26dbdfc6c898c",
            "daa855f10468421c9a5806e5999519e7",
            "5e44c9ef04b94d81a54766a779e27e0a",
            "30a79c82a1e8487895f487284af65124",
            "faec0debb7324a4fbcd6e2945abba127",
            "5abeadf649804e7095bef8d97cf790a4",
            "1302425352784e56abdf81009c1906ae",
            "adf1baef7cad4befb9ae7863dd1d8f8d"
          ]
        },
        "id": "0jSKGoxARDqc",
        "outputId": "1d663d15-6598-497e-c068-e6cbea4a3248"
      },
      "execution_count": null,
      "outputs": [
        {
          "output_type": "stream",
          "name": "stdout",
          "text": [
            "google/flan-t5-xl\n"
          ]
        },
        {
          "output_type": "stream",
          "name": "stderr",
          "text": [
            "/usr/local/lib/python3.10/dist-packages/huggingface_hub/file_download.py:797: FutureWarning: `resume_download` is deprecated and will be removed in version 1.0.0. Downloads always resume when possible. If you want to force a new download, use `force_download=True`.\n",
            "  warnings.warn(\n"
          ]
        },
        {
          "output_type": "display_data",
          "data": {
            "text/plain": [
              "Loading checkpoint shards:   0%|          | 0/2 [00:00<?, ?it/s]"
            ],
            "application/vnd.jupyter.widget-view+json": {
              "version_major": 2,
              "version_minor": 0,
              "model_id": "f419d44de8fc472bbc9af01cf21ccf7b"
            }
          },
          "metadata": {}
        },
        {
          "output_type": "stream",
          "name": "stderr",
          "text": [
            "/usr/local/lib/python3.10/dist-packages/huggingface_hub/file_download.py:797: FutureWarning: `resume_download` is deprecated and will be removed in version 1.0.0. Downloads always resume when possible. If you want to force a new download, use `force_download=True`.\n",
            "  warnings.warn(\n"
          ]
        }
      ]
    },
    {
      "cell_type": "code",
      "source": [
        "%%time\n",
        "\n",
        "df_results = pd.DataFrame(columns = ['index', 'Question', 'True_Sentiment', 'Model_Sentiment'])\n",
        "\n",
        "for i in test:\n",
        "  the_prompt = sentiment_analysis_prompt(few_shots, i)\n",
        "\n",
        "\n",
        "  inputs = tokenizer(the_prompt, return_tensors='pt')\n",
        "  output = tokenizer.decode(\n",
        "    model.generate(\n",
        "        inputs[\"input_ids\"],\n",
        "        max_new_tokens=50,\n",
        "    )[0],\n",
        "    skip_special_tokens=True\n",
        "  )\n",
        "\n",
        "  new_row = pd.DataFrame([{\n",
        "      \"index\": i,\n",
        "      \"Question\": imdb_dataset['test'][i]['text'],\n",
        "      \"True_Sentiment\": imdb_dataset['test'][i]['label'],\n",
        "      \"Model_Sentiment\": output\n",
        "      }])\n",
        "  df_results = pd.concat([df_results,new_row], ignore_index=True)\n",
        "\n",
        "# Print the table\n",
        "print(df_results.head(10))\n",
        "# Print matrix and accuracy\n",
        "eval_conf_matrix(df_results,the_model)"
      ],
      "metadata": {
        "colab": {
          "base_uri": "https://localhost:8080/",
          "height": 967
        },
        "id": "0gs5w_E8RPmG",
        "outputId": "d421b6fc-4d97-4dc0-c409-5e40510f33ff"
      },
      "execution_count": null,
      "outputs": [
        {
          "output_type": "stream",
          "name": "stdout",
          "text": [
            "   index                                           Question True_Sentiment  \\\n",
            "0  21544  First of all, I know almost nothing about rugb...              1   \n",
            "1  17338  ****SPOILERS**** Buried under a mountain of me...              1   \n",
            "2  21836  I first saw this movie when I was very little....              1   \n",
            "3  11461  I must have been in a good mood to give this s...              0   \n",
            "4   4672  spoilers<br /><br />This movie is not action p...              0   \n",
            "5  12505  Overall, a well done movie. There were the par...              1   \n",
            "6    355  SPOILER!! Terrible camera work, horrible writi...              0   \n",
            "7  12279  Please -- if you haven't attempted to sit thro...              0   \n",
            "8  15811  honestly.. this show warms my heart, i watch i...              1   \n",
            "9   8980  Is there anything else on earth to be more ent...              0   \n",
            "\n",
            "  Model_Sentiment  \n",
            "0               1  \n",
            "1               1  \n",
            "2               1  \n",
            "3               0  \n",
            "4               0  \n",
            "5               1  \n",
            "6               0  \n",
            "7               0  \n",
            "8               1  \n",
            "9               0  \n",
            "The model google/flan-t5-xl:\n",
            "Predicted correctly: 96.0 out of 100 samples \n",
            "Accuracy score: 96.0%\n",
            "Confusion Matrix:\n"
          ]
        },
        {
          "output_type": "display_data",
          "data": {
            "text/plain": [
              "<Figure size 640x480 with 2 Axes>"
            ],
            "image/png": "[encoded data removed]"
          },
          "metadata": {}
        },
        {
          "output_type": "stream",
          "name": "stdout",
          "text": [
            "CPU times: user 6h 33min 15s, sys: 36min 40s, total: 7h 9min 56s\n",
            "Wall time: 1h 47min 30s\n"
          ]
        }
      ]
    }
  ]
}